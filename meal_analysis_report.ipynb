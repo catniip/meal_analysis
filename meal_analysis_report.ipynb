{
 "cells": [
  {
   "cell_type": "markdown",
   "metadata": {},
   "source": [
    "# Meal analysis\n",
    "\n",
    "About 1,300 meal records of 60 persons are provided. Each row indicates 1 meal with several features like person profile, number of dishes, detail nutrients like amount of enerty, carbo, fat, protein and so on. The score is from 1 to 4 and 1 indicates the wrost and 4 does the best meal. \n",
    "By using values from “B” to “Q” columns as input features and \"R\" as target variable, create a classifier to predict the score of meal."
   ]
  },
  {
   "cell_type": "code",
   "execution_count": 1,
   "metadata": {},
   "outputs": [],
   "source": [
    "# Import libraries\n",
    "import pandas as pd\n",
    "import numpy as np\n",
    "import matplotlib.pyplot as plt\n",
    "from sklearn.compose import make_column_transformer\n",
    "from sklearn.preprocessing import OrdinalEncoder\n",
    "from sklearn.preprocessing import StandardScaler\n",
    "from sklearn.multiclass import OneVsRestClassifier\n",
    "from sklearn import svm\n",
    "from sklearn.pipeline import Pipeline\n",
    "from sklearn.model_selection import train_test_split, GridSearchCV\n",
    "from sklearn.metrics import accuracy_score, classification_report, confusion_matrix\n",
    "from sklearn.feature_selection import SelectPercentile, f_classif"
   ]
  },
  {
   "cell_type": "markdown",
   "metadata": {},
   "source": [
    "## Load the dataset\n",
    "Load the data set and drop na rows. Split the data set into input features (X) and target variable (y)."
   ]
  },
  {
   "cell_type": "code",
   "execution_count": 2,
   "metadata": {},
   "outputs": [],
   "source": [
    "# Define a function to load the data set and drop na rows, X is input features and y is target variable\n",
    "def load_dataset(filename):\n",
    "\n",
    "    # load the data as pandas Dataframe\n",
    "    data = pd.read_excel(filename, index_col=[0])\n",
    "    # drop na of the data\n",
    "    dataset = data.dropna()\n",
    "    \n",
    "    # split into input X and output y variables\n",
    "    X = dataset.iloc[:, 0:-1]\n",
    "    y = dataset.iloc[:, -1]\n",
    "\n",
    "    return X, y\n"
   ]
  },
  {
   "cell_type": "code",
   "execution_count": 3,
   "metadata": {},
   "outputs": [
    {
     "data": {
      "text/html": [
       "<div>\n",
       "<style scoped>\n",
       "    .dataframe tbody tr th:only-of-type {\n",
       "        vertical-align: middle;\n",
       "    }\n",
       "\n",
       "    .dataframe tbody tr th {\n",
       "        vertical-align: top;\n",
       "    }\n",
       "\n",
       "    .dataframe thead th {\n",
       "        text-align: right;\n",
       "    }\n",
       "</style>\n",
       "<table border=\"1\" class=\"dataframe\">\n",
       "  <thead>\n",
       "    <tr style=\"text-align: right;\">\n",
       "      <th></th>\n",
       "      <th>Type</th>\n",
       "      <th>gender</th>\n",
       "      <th>age</th>\n",
       "      <th>height</th>\n",
       "      <th>weight</th>\n",
       "      <th>EER[kcal]</th>\n",
       "      <th>P target(15%)[g]</th>\n",
       "      <th>F target(25%)[g]</th>\n",
       "      <th>C target(60%)[g]</th>\n",
       "      <th>number of dishes</th>\n",
       "      <th>E[kcal]</th>\n",
       "      <th>P[g]</th>\n",
       "      <th>F[g]</th>\n",
       "      <th>C[g]</th>\n",
       "      <th>Salt[g]</th>\n",
       "      <th>Vegetables[g]</th>\n",
       "    </tr>\n",
       "  </thead>\n",
       "  <tbody>\n",
       "    <tr>\n",
       "      <th>1</th>\n",
       "      <td>breakfast</td>\n",
       "      <td>female</td>\n",
       "      <td>32.0</td>\n",
       "      <td>157.0</td>\n",
       "      <td>48.0</td>\n",
       "      <td>1655</td>\n",
       "      <td>62.043750</td>\n",
       "      <td>45.958333</td>\n",
       "      <td>248.175000</td>\n",
       "      <td>2</td>\n",
       "      <td>333.87</td>\n",
       "      <td>5.85</td>\n",
       "      <td>0.75</td>\n",
       "      <td>75.69</td>\n",
       "      <td>0.21</td>\n",
       "      <td>29.0</td>\n",
       "    </tr>\n",
       "    <tr>\n",
       "      <th>2</th>\n",
       "      <td>breakfast</td>\n",
       "      <td>female</td>\n",
       "      <td>35.0</td>\n",
       "      <td>161.0</td>\n",
       "      <td>55.0</td>\n",
       "      <td>2073</td>\n",
       "      <td>77.745091</td>\n",
       "      <td>57.588956</td>\n",
       "      <td>310.980364</td>\n",
       "      <td>2</td>\n",
       "      <td>213.85</td>\n",
       "      <td>4.62</td>\n",
       "      <td>4.48</td>\n",
       "      <td>41.25</td>\n",
       "      <td>0.11</td>\n",
       "      <td>0.0</td>\n",
       "    </tr>\n",
       "    <tr>\n",
       "      <th>3</th>\n",
       "      <td>breakfast</td>\n",
       "      <td>female</td>\n",
       "      <td>26.0</td>\n",
       "      <td>159.0</td>\n",
       "      <td>51.0</td>\n",
       "      <td>2042</td>\n",
       "      <td>76.584375</td>\n",
       "      <td>56.729167</td>\n",
       "      <td>306.337500</td>\n",
       "      <td>4</td>\n",
       "      <td>351.59</td>\n",
       "      <td>27.31</td>\n",
       "      <td>18.85</td>\n",
       "      <td>18.10</td>\n",
       "      <td>2.84</td>\n",
       "      <td>116.4</td>\n",
       "    </tr>\n",
       "    <tr>\n",
       "      <th>4</th>\n",
       "      <td>breakfast</td>\n",
       "      <td>female</td>\n",
       "      <td>48.0</td>\n",
       "      <td>164.0</td>\n",
       "      <td>57.0</td>\n",
       "      <td>1772</td>\n",
       "      <td>66.431250</td>\n",
       "      <td>49.208333</td>\n",
       "      <td>265.725000</td>\n",
       "      <td>2</td>\n",
       "      <td>295.43</td>\n",
       "      <td>5.63</td>\n",
       "      <td>0.89</td>\n",
       "      <td>65.08</td>\n",
       "      <td>0.65</td>\n",
       "      <td>189.0</td>\n",
       "    </tr>\n",
       "    <tr>\n",
       "      <th>5</th>\n",
       "      <td>dinner</td>\n",
       "      <td>female</td>\n",
       "      <td>48.0</td>\n",
       "      <td>164.0</td>\n",
       "      <td>57.0</td>\n",
       "      <td>1772</td>\n",
       "      <td>66.431250</td>\n",
       "      <td>49.208333</td>\n",
       "      <td>265.725000</td>\n",
       "      <td>5</td>\n",
       "      <td>876.19</td>\n",
       "      <td>41.46</td>\n",
       "      <td>34.16</td>\n",
       "      <td>96.30</td>\n",
       "      <td>6.37</td>\n",
       "      <td>53.5</td>\n",
       "    </tr>\n",
       "  </tbody>\n",
       "</table>\n",
       "</div>"
      ],
      "text/plain": [
       "        Type  gender   age  height  weight  EER[kcal]  P target(15%)[g]  \\\n",
       "1  breakfast  female  32.0   157.0    48.0       1655         62.043750   \n",
       "2  breakfast  female  35.0   161.0    55.0       2073         77.745091   \n",
       "3  breakfast  female  26.0   159.0    51.0       2042         76.584375   \n",
       "4  breakfast  female  48.0   164.0    57.0       1772         66.431250   \n",
       "5     dinner  female  48.0   164.0    57.0       1772         66.431250   \n",
       "\n",
       "   F target(25%)[g]  C target(60%)[g]  number of dishes  E[kcal]   P[g]  \\\n",
       "1         45.958333        248.175000                 2   333.87   5.85   \n",
       "2         57.588956        310.980364                 2   213.85   4.62   \n",
       "3         56.729167        306.337500                 4   351.59  27.31   \n",
       "4         49.208333        265.725000                 2   295.43   5.63   \n",
       "5         49.208333        265.725000                 5   876.19  41.46   \n",
       "\n",
       "    F[g]   C[g]  Salt[g]  Vegetables[g]  \n",
       "1   0.75  75.69     0.21           29.0  \n",
       "2   4.48  41.25     0.11            0.0  \n",
       "3  18.85  18.10     2.84          116.4  \n",
       "4   0.89  65.08     0.65          189.0  \n",
       "5  34.16  96.30     6.37           53.5  "
      ]
     },
     "execution_count": 3,
     "metadata": {},
     "output_type": "execute_result"
    }
   ],
   "source": [
    "# Load the dataset \n",
    "X, y = load_dataset('Meal Analysis (2017) .xlsx')\n",
    "\n",
    "# Check the top 5 rows to get an idea of what we are dealing with\n",
    "X.head()\n"
   ]
  },
  {
   "cell_type": "markdown",
   "metadata": {},
   "source": [
    "## Encode categorical columns\n",
    "\n",
    "The features 'Type' and 'gender' are text values, which will be encoded into numerical values for further processing.\n",
    "'Type' is encoded into 3 values 0, 1 and 2, and 'gender' is encoded into 2 values 0 and 1."
   ]
  },
  {
   "cell_type": "code",
   "execution_count": 4,
   "metadata": {},
   "outputs": [
    {
     "data": {
      "text/plain": [
       "array([[0., 0.],\n",
       "       [0., 0.],\n",
       "       [0., 0.],\n",
       "       [0., 0.],\n",
       "       [1., 0.],\n",
       "       [2., 0.],\n",
       "       [0., 0.],\n",
       "       [1., 0.],\n",
       "       [2., 0.],\n",
       "       [0., 0.],\n",
       "       [0., 0.],\n",
       "       [1., 0.],\n",
       "       [2., 0.],\n",
       "       [1., 1.],\n",
       "       [1., 0.],\n",
       "       [1., 1.],\n",
       "       [2., 0.],\n",
       "       [2., 0.],\n",
       "       [2., 1.],\n",
       "       [2., 1.]])"
      ]
     },
     "execution_count": 4,
     "metadata": {},
     "output_type": "execute_result"
    }
   ],
   "source": [
    "# Save the feature names into a variable \n",
    "feature_names = X.columns\n",
    "\n",
    "# Encode categorical columns\n",
    "categorical_columns = ['Type', 'gender']\n",
    "column_trans = make_column_transformer(\n",
    "    [OrdinalEncoder(), categorical_columns], remainder='passthrough'\n",
    ")\n",
    "X = column_trans.fit_transform(X)\n",
    "\n",
    "# Check the first 20 rows of encoded features\n",
    "X[:20, :2]"
   ]
  },
  {
   "cell_type": "markdown",
   "metadata": {},
   "source": [
    "## Prepare data \n",
    "Split the data into train and test set"
   ]
  },
  {
   "cell_type": "code",
   "execution_count": 5,
   "metadata": {},
   "outputs": [],
   "source": [
    "# Split into train and test sets\n",
    "X_train, X_test, y_train, y_test = train_test_split(X, y, test_size=0.2)\n"
   ]
  },
  {
   "cell_type": "markdown",
   "metadata": {},
   "source": [
    "## Machine learning pipeline\n",
    "### Standardization\n",
    "Standardizing features by removing the mean and scaling to unit variance.\n",
    "Standardization is commonly required in most machine learning algorithms, especially in Support Vector Machines (SVM).\n",
    "Standardization makes feature distributions centered around 0 with variance in the same order across all features.\n",
    "If a features has a variance that is significant larger order than others, it might dominate the classification and make the classifier behave not as well as expected.\n",
    "### Support Vector Machines (SVM)\n",
    "Support Vector Machines is chosen as the classification method in this solution for following reasons:\n",
    "\n",
    "1. It is a supervised learning method, which is applicable to labeled data like ours.\n",
    "2. It is effective in high dimension spaces, as our data has many features.\n",
    "3. It works relatively well when there is a clear margin of separation between classes.\n",
    "4. It is versatile with different kernel functions, it still works even the boundaries between classes are not linear, which is very likely to happen in our data.\n",
    "5. It is relatively memory efficient since it uses a subset of training points in the decision function.\n",
    "\n",
    "\n",
    "The Radial Basis Function (RBF) kernel is chosen for our SVM classifier since it is more suitable for non-linear hyperplane boundaries.  "
   ]
  },
  {
   "cell_type": "code",
   "execution_count": 6,
   "metadata": {},
   "outputs": [],
   "source": [
    "# Setup the pipeline\n",
    "clf_pipeline = Pipeline(\n",
    "    [('scaler', StandardScaler()), ('clf', OneVsRestClassifier(svm.SVC(kernel='rbf')))]\n",
    ")"
   ]
  },
  {
   "cell_type": "markdown",
   "metadata": {},
   "source": [
    "## Tune hyerparameters using grid search and cross validation\n",
    "### Regularization\n",
    "Regularization parameter in python's Scikit-learn package is prepresented by C parameter. C is the penalty parameter, which represents the misclassification or error term.\n",
    "The misclassification or error term determines how much error is accepted. This controls the trade-off between decision boundary and misclassification term. A smaller C creates a small-margin hyperplane and a larger C creates a larger margin hyperplane.\n",
    "### Gamma\n",
    "Gamma determines how much influence a single training example has. A lower Gamma value will fit the training dataset loosely, and a higher Gamma value will fit the training dataset exactly, which might cause over-fitting. \n"
   ]
  },
  {
   "cell_type": "code",
   "execution_count": 7,
   "metadata": {},
   "outputs": [
    {
     "name": "stdout",
     "output_type": "stream",
     "text": [
      "Tuned Model Parameters: {'clf__estimator__C': 100, 'clf__estimator__gamma': 0.01}\n",
      "Best Accuracy: 76.50%\n"
     ]
    }
   ],
   "source": [
    "# Specify the hyperparameter space\n",
    "parameters = {'clf__estimator__C':[100, 10, 1, 0.1, 0.01], \n",
    "              'clf__estimator__gamma':[0.1, 0.01, 0.001]}\n",
    "\n",
    "\n",
    "# Instantiate the GridSearchCV object: cv\n",
    "cv = GridSearchCV(clf_pipeline, param_grid=parameters, cv=5, n_jobs=-1)\n",
    "\n",
    "\n",
    "# Fit to the training set\n",
    "cv.fit(X_train, y_train)\n",
    "\n",
    "print(\"Tuned Model Parameters: {}\".format(cv.best_params_))\n",
    "print(\"Best Accuracy: {:.2%}\".format(cv.best_score_))"
   ]
  },
  {
   "cell_type": "markdown",
   "metadata": {},
   "source": [
    "## Apply tuned model parameters to the estimator\n",
    "\n",
    "From the previous result, we found that the best model parameters are C=100 and Gamma=0.01. \n",
    "\n",
    "In the next step, we will apply the tuned model parameters to the model."
   ]
  },
  {
   "cell_type": "code",
   "execution_count": 11,
   "metadata": {},
   "outputs": [
    {
     "name": "stdout",
     "output_type": "stream",
     "text": [
      "[[ 42  13   0   0]\n",
      " [ 11 143  11   0]\n",
      " [  1  17  17   1]\n",
      " [  0   2   3   2]]\n",
      "Accuracy with tuned model parameters: 77.57%\n",
      "              precision    recall  f1-score   support\n",
      "\n",
      "           1       0.78      0.76      0.77        55\n",
      "           2       0.82      0.87      0.84       165\n",
      "           3       0.55      0.47      0.51        36\n",
      "           4       0.67      0.29      0.40         7\n",
      "\n",
      "    accuracy                           0.78       263\n",
      "   macro avg       0.70      0.60      0.63       263\n",
      "weighted avg       0.77      0.78      0.77       263\n",
      "\n"
     ]
    }
   ],
   "source": [
    "# Apply model on testing data and finding accuracy on it.\n",
    "y_pred = cv.predict(X_test)\n",
    "\n",
    "# Compute and print metrics\n",
    "print(confusion_matrix(y_test, y_pred))\n",
    "print(\"Accuracy with tuned model parameters: {:.2%}\".format(accuracy_score(y_test, y_pred)))\n",
    "print(classification_report(y_test, y_pred))"
   ]
  },
  {
   "cell_type": "markdown",
   "metadata": {},
   "source": [
    " ##  Univariate feature selection with F-test for feature scoring\n",
    "\n",
    "In statistics, the p-value is the probability of obtaining results assumming that the null hypothesis is correct.\n",
    "The smaller the p-value, the stronger the evidence that the null hypothesis would be rejected, that is, the more important the feature.\n",
    "\n",
    "In this bar plot, the p-values are shown in log because they spanned several orders of magnitude. The minus sign is used to make the values positive and easier to compare. The bigger the value, the smaller the underlying p-value, meaning the more important the feature.\n",
    "\n",
    "From the bar plot, we can find that the features: age, height, weight, EER, P target, F target and C target are less important, so they can be removed."
   ]
  },
  {
   "cell_type": "code",
   "execution_count": 9,
   "metadata": {},
   "outputs": [
    {
     "data": {
      "image/png": "[encoded data removed]",
      "text/plain": [
       "<Figure size 1200x800 with 1 Axes>"
      ]
     },
     "metadata": {
      "needs_background": "light"
     },
     "output_type": "display_data"
    }
   ],
   "source": [
    "selector = SelectPercentile(f_classif)\n",
    "selector.fit(X, y)\n",
    "scores = -np.log10(selector.pvalues_)\n",
    "scores /= scores.max()\n",
    "X_indices = np.arange(X.shape[-1])\n",
    "\n",
    "%matplotlib inline\n",
    "fig=plt.figure(figsize=(12,8), dpi= 100)\n",
    "plt.bar(X_indices, scores, width=.2,\n",
    "        label=r'Univariate score ($-Log(p_{value})$)', color='g')\n",
    "plt.title(\"Comparing feature importance\")\n",
    "plt.xlabel('Feature name')\n",
    "plt.xticks(ticks=X_indices, labels=feature_names, rotation=90)\n",
    "plt.axis('tight')\n",
    "plt.legend(loc='upper left')\n",
    "plt.show()"
   ]
  },
  {
   "cell_type": "markdown",
   "metadata": {},
   "source": [
    "## Remove less important features to see if the accuracy is increased\n",
    "After removing the less important features, the accuracy is increased from 77% to 82%. \n",
    "\n",
    "So that our final model is shown as below. \n",
    "\n",
    "It is trained with 8 features: Type, gender, number of dishes, E, P, F, C, Salt and Vegetables.\n",
    "The algorithm is SVM with rbf kernel, with a C parameter of 10 and gamma parameter of 0.1."
   ]
  },
  {
   "cell_type": "code",
   "execution_count": 12,
   "metadata": {},
   "outputs": [
    {
     "name": "stdout",
     "output_type": "stream",
     "text": [
      "Tuned Model Parameters: {'clf__estimator__C': 10, 'clf__estimator__gamma': 0.1}\n",
      "Best Accuracy: 78.88%\n",
      "[[ 43  12   0   0]\n",
      " [  6 148  11   0]\n",
      " [  0  14  22   0]\n",
      " [  0   1   3   3]]\n",
      "Accuracy on test set after feature selection: 82.13%\n",
      "              precision    recall  f1-score   support\n",
      "\n",
      "           1       0.88      0.78      0.83        55\n",
      "           2       0.85      0.90      0.87       165\n",
      "           3       0.61      0.61      0.61        36\n",
      "           4       1.00      0.43      0.60         7\n",
      "\n",
      "    accuracy                           0.82       263\n",
      "   macro avg       0.83      0.68      0.73       263\n",
      "weighted avg       0.82      0.82      0.82       263\n",
      "\n"
     ]
    }
   ],
   "source": [
    "# delete unimportant features to see if accuracy increased\n",
    "X_train_fs = np.delete(X_train, [2, 3, 4, 5, 6, 7, 8], 1)\n",
    "X_test_fs = np.delete(X_test, [2, 3, 4, 5, 6, 7, 8], 1)\n",
    "\n",
    "\n",
    "# Instantiate the GridSearchCV object: cv_fs \n",
    "cv_fs = GridSearchCV(clf_pipeline, param_grid=parameters, cv=5, n_jobs=-1)\n",
    "\n",
    "# Fit to the training set\n",
    "cv_fs.fit(X_train_fs, y_train)\n",
    "\n",
    "print(\"Tuned Model Parameters: {}\".format(cv_fs.best_params_))\n",
    "print(\"Best Accuracy: {:.2%}\".format(cv_fs.best_score_))\n",
    "\n",
    "\n",
    "# Apply model on testing data and finding accuracy on it.\n",
    "y_pred = cv_fs.predict(X_test_fs)\n",
    "\n",
    "# Compute and print metrics\n",
    "print(confusion_matrix(y_test, y_pred))\n",
    "print(\"Accuracy on test set after feature selection: {:.2%}\".format(accuracy_score(y_test, y_pred)))\n",
    "print(classification_report(y_test, y_pred))"
   ]
  },
  {
   "cell_type": "markdown",
   "metadata": {},
   "source": [
    "## Summary\n",
    "### What makes a good meal\n",
    "From the feature selection with F test, we found that features of personal profile such age, height, and weight, are relatively less important to the score.\n",
    "In addition, Energy, Protein, Fat and Carbo are unimportant to the score too.\n",
    "\n",
    "The gender has low importance, suggesting that gender has little thing to do with the score.\n",
    "The type of meal also has relatively low importance, suggesting that all nutritions such as protein, fat, carbo, etc should be taken throughout the day in every meal.\n",
    "\n",
    "What matters the most to the meal is the meal's own characteristies.\n",
    "Among them, vegetables shows the highest importance. Energy, Protein, Carbo and Salt are almost equally important.\n",
    "We should make sure to have enough of these four for better health.\n",
    "The amount of Fat is not so important. The number of dishes also have influence on the meal. I guess that the more dishes a meal has, the more balanced and nutritious the meal will be.\n",
    "\n",
    "### Improve the classifier accuracy\n",
    "The confusion matrix shows that the classification accuracy of score 3 and 4 are relativley low.\n",
    "That is presumably because the original data set has less examples of score 3 and 4.\n",
    "If we could collect more data sets of score 3 and 4, the classificaton accuracy could be imporved.\n",
    "\n",
    "Of course, adding more features and collect more overall data sets can also improve the classification accuracy. For example, we have target energy, protein, fat, carbo and salt a user should take in a day, if we know the target energy, protein, fat, carbo and salt a user should take for each meal, that might improve the classification accuracy. "
   ]
  }
 ],
 "metadata": {
  "kernelspec": {
   "display_name": "Python 3",
   "language": "python",
   "name": "python3"
  },
  "language_info": {
   "codemirror_mode": {
    "name": "ipython",
    "version": 3
   },
   "file_extension": ".py",
   "mimetype": "text/x-python",
   "name": "python",
   "nbconvert_exporter": "python",
   "pygments_lexer": "ipython3",
   "version": "3.8.3"
  }
 },
 "nbformat": 4,
 "nbformat_minor": 2
}
